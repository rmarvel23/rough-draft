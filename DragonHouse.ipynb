{
  "nbformat": 4,
  "nbformat_minor": 0,
  "metadata": {
    "colab": {
      "provenance": [],
      "authorship_tag": "ABX9TyMyIMBMUswEmDIi56ms/AWz",
      "include_colab_link": true
    },
    "kernelspec": {
      "name": "python3",
      "display_name": "Python 3"
    },
    "language_info": {
      "name": "python"
    }
  },
  "cells": [
    {
      "cell_type": "markdown",
      "metadata": {
        "id": "view-in-github",
        "colab_type": "text"
      },
      "source": [
        "<a href=\"https://colab.research.google.com/github/rmarvel23/rough-draft/blob/main/DragonHouse.ipynb\" target=\"_parent\"><img src=\"https://colab.research.google.com/assets/colab-badge.svg\" alt=\"Open In Colab\"/></a>"
      ]
    },
    {
      "cell_type": "code",
      "execution_count": 82,
      "metadata": {
        "id": "F2uStArccbaW"
      },
      "outputs": [],
      "source": [
        "class PartnerError(Exception):\n",
        "    pass\n",
        "class ParentError(Exception):\n",
        "    pass\n",
        "\n",
        "\n",
        "class Person:\n",
        "    def __init__(self, unique_id, name):\n",
        "        self.unique_id = unique_id\n",
        "        self.name = name\n",
        "        self.partner = None\n",
        "        self.children = []\n",
        "        self.parents = []\n",
        "\n",
        "    def set_partner(self,partner):\n",
        "        if self.partner is not None:\n",
        "            raise PartnerError(f\"{self.name} already has a partner.\")\n",
        "        self.partner = partner\n",
        "        partner.partner = self\n",
        "\n",
        "    def add_child(self, child):\n",
        "        if len(child.parents) >= 2:\n",
        "            raise ParentError(f'{child.name} already has parents.')\n",
        "        if child not in self.children:\n",
        "            self.children.append(child)\n",
        "            child.parents.append(self)\n",
        "\n",
        "    def remove_partner(self):\n",
        "        if self.partner is not None:\n",
        "            self.partner.partner = None\n",
        "            self.partner = None\n",
        "\n",
        "    def remove_child(self, child):\n",
        "        if child in self.children:\n",
        "            self.children.remove(child)\n",
        "            child.parents.remove(self)\n",
        "\n",
        "    def __str__(self):\n",
        "        partner_name = self.partner.name if self.partner else \"None\"\n",
        "        children_names = \", \".join(child.name for child in self.children) if self.children else \"None\"\n",
        "        return f\"ID: {self.unique_id}, Name: {self.name}, Partner: {partner_name}, Children: {children_names}\"\n"
      ]
    },
    {
      "cell_type": "code",
      "source": [
        "\n",
        "class FamilyTree:\n",
        "    def __init__(self):\n",
        "        self.members = {}\n",
        "\n",
        "    def add_person(self, person):\n",
        "        if person.unique_id in self.members:\n",
        "            print(f\"This person with the ID {person.unique_id} already exists.\")\n",
        "        else:\n",
        "            self.members[person.unique_id] = person\n",
        "\n",
        "    def remove_person(self, unique_id):\n",
        "        person = self.members.pop(unique_id, None)\n",
        "        if person:\n",
        "            if person.partner:\n",
        "                person.remove_partner()\n",
        "            for child in person.children:\n",
        "                child.parents.remove(person)\n",
        "        else:\n",
        "            print(f\"The person with the ID {unique_id} could not be found.\")\n",
        "\n",
        "    def print_family_tree(self):\n",
        "        roots = [person for person in self.members.values() if not person.parents]\n",
        "        for root in roots:\n",
        "            self._print_subtree(root, \"\")\n",
        "\n",
        "    def _print_subtree(self, person, prefix):\n",
        "        print(prefix + f\"{person.name} (ID: {person.unique_id})\")\n",
        "        if person.partner:\n",
        "            print(prefix + f\"  Partner: {person.partner.name} (ID: {person.partner.unique_id})\")\n",
        "        if person.children:\n",
        "            for child in person.children:\n",
        "                self._print_subtree(child, prefix + \"    \")"
      ],
      "metadata": {
        "id": "vv0Fm6UTjJg9"
      },
      "execution_count": 110,
      "outputs": []
    },
    {
      "cell_type": "code",
      "source": [
        "Daemon = Person(111, \"Daemon\")"
      ],
      "metadata": {
        "id": "hR0Boh_6mmvi"
      },
      "execution_count": 111,
      "outputs": []
    },
    {
      "cell_type": "code",
      "source": [
        "Laena = Person(112, \"Laena\")"
      ],
      "metadata": {
        "id": "fyzy89fgnMmt"
      },
      "execution_count": 112,
      "outputs": []
    },
    {
      "cell_type": "code",
      "source": [
        "Baela = Person (113, \"Baela\")"
      ],
      "metadata": {
        "id": "RhOB6HNznS1_"
      },
      "execution_count": 113,
      "outputs": []
    },
    {
      "cell_type": "code",
      "source": [
        "Rhaena = Person(114, \"Rhaena\")"
      ],
      "metadata": {
        "id": "J-DbqQvGnXEd"
      },
      "execution_count": 114,
      "outputs": []
    },
    {
      "cell_type": "code",
      "source": [
        "Daemon.set_partner(Laena)"
      ],
      "metadata": {
        "id": "UB5bGjdznbvC"
      },
      "execution_count": 115,
      "outputs": []
    },
    {
      "cell_type": "code",
      "source": [
        "Daemon.add_child(Rhaena)"
      ],
      "metadata": {
        "id": "TUix9n9ipOXA"
      },
      "execution_count": 116,
      "outputs": []
    },
    {
      "cell_type": "code",
      "source": [
        "Daemon.add_child(Baela)"
      ],
      "metadata": {
        "id": "EwWX0hdApQKh"
      },
      "execution_count": 117,
      "outputs": []
    },
    {
      "cell_type": "code",
      "source": [
        "str(Daemon)"
      ],
      "metadata": {
        "colab": {
          "base_uri": "https://localhost:8080/",
          "height": 36
        },
        "id": "1_J5NIlnryuD",
        "outputId": "1ac9ab17-6ad4-4ad3-fe53-72d107001096"
      },
      "execution_count": 118,
      "outputs": [
        {
          "output_type": "execute_result",
          "data": {
            "text/plain": [
              "'ID: 111, Name: Daemon, Partner: Laena, Children: Rhaena, Baela'"
            ],
            "application/vnd.google.colaboratory.intrinsic+json": {
              "type": "string"
            }
          },
          "metadata": {},
          "execution_count": 118
        }
      ]
    },
    {
      "cell_type": "code",
      "source": [
        "Laena.add_child(Rhaena)"
      ],
      "metadata": {
        "id": "viNi2E8Cr7dA"
      },
      "execution_count": 119,
      "outputs": []
    },
    {
      "cell_type": "code",
      "source": [
        "Laena.add_child(Baela)"
      ],
      "metadata": {
        "id": "OCZoqgIKsASv"
      },
      "execution_count": 120,
      "outputs": []
    },
    {
      "cell_type": "code",
      "source": [
        "Targaryen_Velaryon = FamilyTree()"
      ],
      "metadata": {
        "id": "4CSRIglOqDZF"
      },
      "execution_count": 121,
      "outputs": []
    },
    {
      "cell_type": "code",
      "source": [
        "Targaryen_Velaryon.add_person(Daemon)"
      ],
      "metadata": {
        "id": "ED0TwBOdqHsi"
      },
      "execution_count": 122,
      "outputs": []
    },
    {
      "cell_type": "code",
      "source": [
        "Targaryen_Velaryon.add_person(Laena)"
      ],
      "metadata": {
        "id": "U8LiSe1YqMZT"
      },
      "execution_count": 123,
      "outputs": []
    },
    {
      "cell_type": "code",
      "source": [
        "Targaryen_Velaryon.add_person(Baela)"
      ],
      "metadata": {
        "id": "h7xsrJOcrIW7"
      },
      "execution_count": 124,
      "outputs": []
    },
    {
      "cell_type": "code",
      "source": [
        "Targaryen_Velaryon.add_person(Rhaena)"
      ],
      "metadata": {
        "id": "b_bOnpHmrLXd"
      },
      "execution_count": 125,
      "outputs": []
    },
    {
      "cell_type": "code",
      "source": [
        "Targaryen_Velaryon.print_family_tree()"
      ],
      "metadata": {
        "colab": {
          "base_uri": "https://localhost:8080/"
        },
        "id": "_09xfYJurO6c",
        "outputId": "e193fbf1-009c-4fef-e3a4-f5798d0a00e3"
      },
      "execution_count": 126,
      "outputs": [
        {
          "output_type": "stream",
          "name": "stdout",
          "text": [
            "Daemon (ID: 111)\n",
            "  Partner: Laena (ID: 112)\n",
            "    Rhaena (ID: 114)\n",
            "    Baela (ID: 113)\n",
            "Laena (ID: 112)\n",
            "  Partner: Daemon (ID: 111)\n",
            "    Rhaena (ID: 114)\n",
            "    Baela (ID: 113)\n"
          ]
        }
      ]
    }
  ]
}